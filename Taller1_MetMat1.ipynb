{
  "nbformat": 4,
  "nbformat_minor": 0,
  "metadata": {
    "colab": {
      "provenance": [],
      "authorship_tag": "ABX9TyNbWt3fFFtNMtpjdWGhtDp7",
      "include_colab_link": true
    },
    "kernelspec": {
      "name": "python3",
      "display_name": "Python 3"
    },
    "language_info": {
      "name": "python"
    }
  },
  "cells": [
    {
      "cell_type": "markdown",
      "metadata": {
        "id": "view-in-github",
        "colab_type": "text"
      },
      "source": [
        "<a href=\"https://colab.research.google.com/github/josevargasmercado02/TareasCursos20B/blob/main/Taller1_MetMat1.ipynb\" target=\"_parent\"><img src=\"https://colab.research.google.com/assets/colab-badge.svg\" alt=\"Open In Colab\"/></a>"
      ]
    },
    {
      "cell_type": "code",
      "source": [
        "import sympy\n",
        "from sympy import *"
      ],
      "metadata": {
        "id": "08goGz6MStsh"
      },
      "execution_count": 3,
      "outputs": []
    },
    {
      "cell_type": "markdown",
      "source": [
        "1. Realice un código en SymPy para el cual, dado tres vectores que formen los lados de un triángulo calcule el centroide (Problema 3 Sección 1.1.6). Trate de hacer este problema de forma que pueda reutilizar su código para tres vectores cualesquiera."
      ],
      "metadata": {
        "id": "LPQiqpCs2xN0"
      }
    },
    {
      "cell_type": "markdown",
      "source": [
        "Demostración"
      ],
      "metadata": {
        "id": "_XLZMxLGq5On"
      }
    },
    {
      "cell_type": "code",
      "execution_count": null,
      "metadata": {
        "colab": {
          "base_uri": "https://localhost:8080/"
        },
        "id": "6HLyJosQ0dFh",
        "outputId": "875d38df-7213-41a3-890e-5bb63e85f1f6"
      },
      "outputs": [
        {
          "output_type": "stream",
          "name": "stdout",
          "text": [
            "El resultado de a y b es:  {a: 2/3, b: 2/3}\n",
            "El centroide es:  Matrix([[x1/3 + x2/3 + x3/3], [y1/3 + y2/3 + y3/3], [z1/3 + z2/3 + z3/3]])\n"
          ]
        }
      ],
      "source": [
        "#escalares\n",
        "a, b = symbols('a b')\n",
        "#vectores relativos a un origen común\n",
        "x1, y1, z1 = symbols('x1 y1 z1')\n",
        "x2, y2, z2 = symbols('x2 y2 z2')\n",
        "x3, y3, z3 = symbols('x3 y3 z3')\n",
        "\n",
        "u = Matrix([x1, y1, z1])\n",
        "v = Matrix([x2, y2, z2])\n",
        "w = Matrix([x3, y3, z3])\n",
        "\n",
        "#punto medio entre vectores uv y vw\n",
        "uv = (u + v)/2\n",
        "vw = (v + w)/2\n",
        "\n",
        "#Coordenada centroide\n",
        "g1 = (1-a)*u + (a*v)/2 + (a*w)/2\n",
        "g2 = (b*u)/2 + (1-b)*v + (b*w)/2\n",
        "\n",
        "# Resolver g1 = g2 para a y b\n",
        "sol = solve(g1 - g2, (a, b))\n",
        "print(\"El resultado de a y b es: \", sol)\n",
        "\n",
        "#Reemplazamos el resultado de a y b en las ecuaciones anteriores, dandonos el centroide\n",
        "G = simplify(g1.subs(sol))\n",
        "print(\"El centroide es: \", G)"
      ]
    },
    {
      "cell_type": "markdown",
      "source": [
        "Hallar el centroide de un triángulo formado por 3 vectores cualesquiera.\n"
      ],
      "metadata": {
        "id": "0ObzDZjArL3T"
      }
    },
    {
      "cell_type": "code",
      "source": [
        "#lista para almacenar los vectores\n",
        "vec = []\n",
        "\n",
        "for i in range(3):\n",
        "    # Directamente construimos el Matrix pidiendo las 3 componentes\n",
        "    vec.append(Matrix([\n",
        "        float(input(f\"Vector {i+1}, componente x: \")),\n",
        "        float(input(f\"Vector {i+1}, componente y: \")),\n",
        "        float(input(f\"Vector {i+1}, componente z: \"))\n",
        "    ]))\n",
        "\n",
        "a = vec[0]\n",
        "b = vec[1]\n",
        "c = vec[2]\n",
        "\n",
        "if (b-a).cross(c-a).is_zero:\n",
        "    print(\"Los vectores no forman un triángulo\")\n",
        "else:\n",
        "    print(\"El centroide del triángulo es: \", (a+b+c)/3)"
      ],
      "metadata": {
        "colab": {
          "base_uri": "https://localhost:8080/"
        },
        "collapsed": true,
        "id": "683Am4y5rG4t",
        "outputId": "8bc082aa-f188-4875-f918-2455c1e55175"
      },
      "execution_count": null,
      "outputs": [
        {
          "output_type": "stream",
          "name": "stdout",
          "text": [
            "Vector 1, componente x: 1\n",
            "Vector 1, componente y: 2\n",
            "Vector 1, componente z: 3\n",
            "Vector 2, componente x: 4\n",
            "Vector 2, componente y: 5\n",
            "Vector 2, componente z: 6\n",
            "Vector 3, componente x: -1\n",
            "Vector 3, componente y: -2\n",
            "Vector 3, componente z: 3\n",
            "El centroide del triángulo es:  Matrix([[1.33333333333333], [1.66666666666667], [4.00000000000000]])\n"
          ]
        }
      ]
    },
    {
      "cell_type": "markdown",
      "source": [
        "2. Realice un código en SymPy que reproduzca el ejercicio 6 de la Sección 1.2.7\n"
      ],
      "metadata": {
        "id": "qy81pqwZR6zB"
      }
    },
    {
      "cell_type": "code",
      "source": [
        "a = Matrix([1, 2, 3])\n",
        "b = Matrix([4, 5, 6])\n",
        "c = Matrix([3, 2, 1])\n",
        "d = Matrix([6, 5, 4])\n",
        "e1 = Matrix([1, 0, 0])\n",
        "e2 = Matrix([0, 1, 0])\n",
        "e3 = Matrix([0, 0, 1])\n",
        "\n",
        "#Solución ejercicio a.\n",
        "print(a+b+c+d)\n",
        "print(a+b-c-d)\n",
        "print(a-b+c-d)\n",
        "print(-a+b-c+d)\n",
        "\n",
        "#Solución ejercicio b.\n",
        "def norma(x):\n",
        "  return sqrt(x.dot(x))\n",
        "def angulo(x,y):\n",
        "  theta = acos(x.dot(y)/(norma(x)*norma(y)))\n",
        "  return deg(theta).evalf()\n",
        "\n",
        "print(angulo(a,e1))\n",
        "print(angulo(a,e2))\n",
        "print(angulo(a,e3))\n",
        "print(angulo(b,e1))\n",
        "print(angulo(b,e2))\n",
        "print(angulo(b,e3))\n",
        "print(angulo(c,e1))\n",
        "print(angulo(c,e2))\n",
        "print(angulo(c,e3))\n",
        "print(angulo(d,e1))\n",
        "print(angulo(d,e2))\n",
        "print(angulo(d,e3))\n",
        "\n",
        "#solución ejercicio c.\n",
        "print(norma(a))\n",
        "print(norma(b))\n",
        "print(norma(c))\n",
        "print(norma(d))\n",
        "\n",
        "#solución ejercicio d.\n",
        "print(angulo(a,b))\n",
        "print(angulo(c,d))\n",
        "\n",
        "#solución ejercicio e.\n",
        "print((a.dot(b)/norma(b)**2)*b)\n",
        "\n",
        "#solución ejercicio f.\n",
        "def coplanares(a,b,c,d):\n",
        "  x = b-a\n",
        "  y = c-a\n",
        "  z = d-a\n",
        "  mx = x.dot(y.cross(z))\n",
        "  if mx == 0:\n",
        "    return \"Son coplanares\"\n",
        "  else:\n",
        "    return \"No son coplanares\"\n",
        "\n",
        "print(coplanares(a,b,c,d))\n",
        "\n",
        "#solución ejercicio g.\n",
        "print((a+b).dot(c+d))\n",
        "\n",
        "#solución ejercicio h.\n",
        "def cruz(x,y):\n",
        "  return x.cross(y)\n",
        "\n",
        "print(cruz(a,b))\n",
        "print(cruz(b,c))\n",
        "print(cruz(c,d))\n",
        "print(angulo(cruz(a,b),d))\n",
        "print(angulo(cruz(b,c),d))\n",
        "print(angulo(cruz(c,d),d))\n",
        "\n",
        "#solución ejercicio i.\n",
        "print(c.dot(a.cross(b)))\n"
      ],
      "metadata": {
        "colab": {
          "base_uri": "https://localhost:8080/"
        },
        "id": "KLITQaxqSLBE",
        "outputId": "4e28bcd3-ec9f-4141-e0ec-028ec7a87867"
      },
      "execution_count": null,
      "outputs": [
        {
          "output_type": "stream",
          "name": "stdout",
          "text": [
            "Matrix([[14], [14], [14]])\n",
            "Matrix([[-4], [0], [4]])\n",
            "Matrix([[-6], [-6], [-6]])\n",
            "Matrix([[6], [6], [6]])\n",
            "74.4986404330630\n",
            "57.6884667625761\n",
            "36.6992252004899\n",
            "62.8808572266189\n",
            "55.2635187187420\n",
            "46.8615623803289\n",
            "36.6992252004899\n",
            "57.6884667625761\n",
            "74.4986404330630\n",
            "46.8615623803289\n",
            "55.2635187187420\n",
            "62.8808572266189\n",
            "sqrt(14)\n",
            "sqrt(77)\n",
            "sqrt(14)\n",
            "sqrt(77)\n",
            "12.9331544918991\n",
            "12.9331544918991\n",
            "Matrix([[128/77], [160/77], [192/77]])\n",
            "Son coplanares\n",
            "139\n",
            "Matrix([[-3], [6], [-3]])\n",
            "Matrix([[-7], [14], [-7]])\n",
            "Matrix([[3], [-6], [3]])\n",
            "90.0000000000000\n",
            "90.0000000000000\n",
            "90.0000000000000\n",
            "0\n"
          ]
        }
      ]
    },
    {
      "cell_type": "markdown",
      "source": [
        "Sección 1.5.7 ejercicio 13"
      ],
      "metadata": {
        "id": "dGVlVoaj4vAQ"
      }
    },
    {
      "cell_type": "code",
      "source": [
        "from sympy.vector import *\n",
        "x, y = symbols('x y')\n",
        "R = CoordSys3D('R')\n",
        "t, t1, t2 = symbols(\"t t1 t2\")\n",
        "\n",
        "F0 = (-y/(x**2+y**2))*R.i + (x/(x**2+y**2))*R.j\n",
        "\n",
        "#Parametrizar F y r en coordenadas polares\n",
        "x1 = cos(t)\n",
        "y1 = sin(t)\n",
        "r = x1*R.i + y1*R.j\n",
        "F = simplify(F0.subs({x: x1, y:y1}))\n",
        "dr = r.diff(t)\n",
        "\n",
        "Int = simplify(F.dot(dr))\n",
        "W = simplify(integrate(Int, (t,t1,t2)))\n",
        "\n",
        "#reemplazamos t1 y t2 dependiendo de lo que pida el ejercicio\n",
        "W1 = W.subs({t1: 0, t2: pi})\n",
        "print(\"El trabajo es: \", W1)\n",
        "\n",
        "W2 = W.subs({t1: 0, t2: -pi})\n",
        "print(\"El trabajo es: \", W2)\n"
      ],
      "metadata": {
        "colab": {
          "base_uri": "https://localhost:8080/"
        },
        "id": "bT8FULPu4uwp",
        "outputId": "76374499-9698-4889-ff54-b432cdd55ab7"
      },
      "execution_count": 23,
      "outputs": [
        {
          "output_type": "stream",
          "name": "stdout",
          "text": [
            "El trabajo es:  pi\n",
            "El trabajo es:  -pi\n"
          ]
        }
      ]
    }
  ]
}